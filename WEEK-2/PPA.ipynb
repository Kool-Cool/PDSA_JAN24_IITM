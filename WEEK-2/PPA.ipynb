{
 "cells": [
  {
   "cell_type": "markdown",
   "metadata": {},
   "source": [
    "# PPA1"
   ]
  },
  {
   "cell_type": "markdown",
   "metadata": {},
   "source": [
    "![PPA-1](https://github.com/Kool-Cool/PDSA_JAN24_IITM/blob/main/Instance/PPA-1_W2.png?raw=true)\n"
   ]
  },
  {
   "cell_type": "code",
   "execution_count": null,
   "metadata": {},
   "outputs": [],
   "source": [
    "def binarySearchIndexAndComparisons(L, k):\n",
    "    left = 0\n",
    "    right = len(L) - 1\n",
    "    numComparisons = 0\n",
    "\n",
    "    while left <= right:\n",
    "        mid = (left + right) // 2\n",
    "        numComparisons += 1\n",
    "\n",
    "        if L[mid] == k:\n",
    "            return (True, numComparisons)\n",
    "        elif L[mid] < k:\n",
    "            left = mid + 1\n",
    "        else:\n",
    "            right = mid - 1\n",
    "\n",
    "    return (False, numComparisons)\n"
   ]
  },
  {
   "cell_type": "markdown",
   "metadata": {},
   "source": [
    "# PPA2"
   ]
  },
  {
   "cell_type": "markdown",
   "metadata": {},
   "source": [
    "![PPA-1](https://github.com/Kool-Cool/PDSA_JAN24_IITM/blob/main/Instance/PPA-2_W2.png?raw=true)"
   ]
  },
  {
   "cell_type": "code",
   "execution_count": null,
   "metadata": {},
   "outputs": [],
   "source": [
    "# Need Help\n",
    "# Help Wanted\n",
    "# ToDo\n",
    " "
   ]
  },
  {
   "cell_type": "markdown",
   "metadata": {},
   "source": [
    "Refer [PA/Week-2.pdf](https://github.com/NebulaTris/pdsa-iitm/blob/main/PA/Week-2.pdf)\n",
    "\n",
    "Thanks @NebulaTris 🙌"
   ]
  },
  {
   "cell_type": "code",
   "execution_count": null,
   "metadata": {},
   "outputs": [],
   "source": [
    "def sortInRange(L, r):\n",
    "    # Create a dictionary with r keys for each integer in range r, initialize every value to 0\n",
    "    countDict = dict.fromkeys(range(r), 0)\n",
    "    \n",
    "    # Iterate over the array and count each integer in the list\n",
    "    for num in L:\n",
    "        countDict[num] += 1\n",
    "    \n",
    "    index=0\n",
    "    for key in countDict.keys():\n",
    "        for i in range(countDict[key]):\n",
    "            L[index] = key\n",
    "            index += 1"
   ]
  },
  {
   "cell_type": "code",
   "execution_count": null,
   "metadata": {},
   "outputs": [],
   "source": [
    "\"\"\"  \n",
    "WRONGEEEEEE !!!\n",
    "\n",
    "\"\"\"\n",
    "\n",
    "def sortInRange(lst , r):\n",
    "    \"\"\"  \n",
    "    asymptotic complexity (O + r)\n",
    "\n",
    "    thoughts (might be wrong !!!)\n",
    "    1] make dictonary { O(r) till r number} to save count\n",
    "    2] use in place (rather than making new list)\n",
    "    \"\"\"\n",
    "\n",
    "    mydict = {}\n",
    "\n",
    "    for char in lst:\n",
    "        mydict[char] = mydict.get(char , 0) + 1\n",
    "    # print(mydict)\n",
    "\n",
    "    mylst = []\n",
    "\n",
    "    for char in range(r):\n",
    "        print(char)\n",
    "        c = 0\n",
    "        mylst = mylst + [char]*mydict[char]\n",
    "\n",
    "    return mylst"
   ]
  },
  {
   "cell_type": "code",
   "execution_count": null,
   "metadata": {},
   "outputs": [],
   "source": [
    "lst = [2,0,1,1,2,3,0,2,1,0,2,3,1,2]\n",
    "r = 4\n",
    "\n",
    "print(sortInRange(lst , r))"
   ]
  }
 ],
 "metadata": {
  "kernelspec": {
   "display_name": "Python 3",
   "language": "python",
   "name": "python3"
  },
  "language_info": {
   "codemirror_mode": {
    "name": "ipython",
    "version": 3
   },
   "file_extension": ".py",
   "mimetype": "text/x-python",
   "name": "python",
   "nbconvert_exporter": "python",
   "pygments_lexer": "ipython3",
   "version": "3.12.1"
  }
 },
 "nbformat": 4,
 "nbformat_minor": 2
}
