{
 "cells": [
  {
   "cell_type": "markdown",
   "metadata": {},
   "source": [
    "# GRPA-1\n",
    "\n"
   ]
  },
  {
   "cell_type": "markdown",
   "metadata": {},
   "source": [
    "---\n",
    "![GRPA-1](https://github.com/Kool-Cool/PDSA_JAN24_IITM/blob/main/Instance/GRPA-1_W2.png?raw=true)\n",
    "\n",
    "---"
   ]
  },
  {
   "cell_type": "code",
   "execution_count": null,
   "metadata": {},
   "outputs": [],
   "source": [
    "#python\n",
    "import string\n",
    "def combinationSort(strList):\n",
    "  # Create a dictionary with 26 keys from characters 'a' to 'z', each key has an empty list as value.\n",
    "  groups = {k: [] for k in string.ascii_lowercase}\n",
    "\n",
    "  # Using this dictionary to group strings with same initial character.  \n",
    "  for i in range(len(strList)):\n",
    "    char=strList[i][0]\n",
    "    groups[char].append(strList[i])\n",
    "  \n",
    "  strList=[]\n",
    "  # Recreate the list from all the strings in groups, iterating on groups from a to z.\n",
    "  for char in groups.keys():\n",
    "    for s in groups[char]:\n",
    "      strList.append(s)\n",
    "  \n",
    "  L1 = strList.copy() # Saving intermediate result to return later.\n",
    "  i = 1\n",
    "  left = 0\n",
    "  # As there can be no more than 100 strings with same initial character.\n",
    "  # Using insertion sort within group.\n",
    "  while i<len(strList):\n",
    "    right = i\n",
    "    while(right>left and strList[right][0] == strList[right-1][0] and int(strList[right-1][1:])<int(strList[right][1:])):\n",
    "      strList[right], strList[right-1] = strList[right-1], strList[right]\n",
    "      right -= 1\n",
    "    i += 1\n",
    "  \n",
    "  return L1, strList"
   ]
  },
  {
   "cell_type": "code",
   "execution_count": null,
   "metadata": {},
   "outputs": [],
   "source": [
    "def combinationSort(strList):\n",
    "    # Separate the strings into letters and numbers\n",
    "    separated = [(s[0], int(s[1:])) for s in strList]\n",
    "\n",
    "    # Sort by letter (stable sort)\n",
    "    L1 = sorted(separated, key=lambda x: x[0])\n",
    "\n",
    "    # For each group of strings starting with the same letter, sort by number in descending order\n",
    "    L2 = []\n",
    "    i = 0\n",
    "    while i < len(L1):\n",
    "        j = i\n",
    "        while j < len(L1) and L1[j][0] == L1[i][0]:\n",
    "            j += 1\n",
    "        L2.extend(sorted(L1[i:j], key=lambda x: x[1], reverse=True))\n",
    "        i = j\n",
    "\n",
    "    # Join the letters and numbers back into strings\n",
    "    L1 = [a + str(b) for a, b in L1]\n",
    "    L2 = [a + str(b) for a, b in L2]\n",
    "\n",
    "    return L1, L2"
   ]
  },
  {
   "cell_type": "markdown",
   "metadata": {},
   "source": [
    "- Easy to understand"
   ]
  },
  {
   "cell_type": "code",
   "execution_count": null,
   "metadata": {},
   "outputs": [],
   "source": [
    "lst = [\"d34\", \"g54\", \"d12\", \"b87\",\"g1\", \"c65\", \"g40\",\"g5\", \"d77\"]\n",
    "\n",
    "def combinationSort(lst):\n",
    "\n",
    "    mylst = []\n",
    "    for char in lst:\n",
    "        a = \"\"\n",
    "        b = \"\"\n",
    "        for c in str(char):\n",
    "            if c.isnumeric():\n",
    "                b+=c\n",
    "            else:\n",
    "                a+=c\n",
    "        mylst.append( (a ,int(b)))\n",
    "    # print(mylst)\n",
    "\n",
    "\n",
    "    l1 = sorted(mylst , key=lambda x:x[0])\n",
    "    # print(l1)\n",
    "\n",
    "    l2 = sorted(mylst , key=lambda x:x[1] , reverse=True)\n",
    "    # print(l2)\n",
    "\n",
    "    L1 = [ a+str(b) for a,b in l1]\n",
    "    L2 = [ a+str(b) for a,b in l2]\n",
    "\n",
    "    print(L1)\n",
    "    print(L2)\n",
    "    return L1 , L2"
   ]
  },
  {
   "cell_type": "markdown",
   "metadata": {},
   "source": [
    "# GRPA-2"
   ]
  },
  {
   "cell_type": "markdown",
   "metadata": {},
   "source": [
    "---\n",
    "![GRPA-2](https://github.com/Kool-Cool/PDSA_JAN24_IITM/blob/main/Instance/GRPA-2_W2.png?raw=true)\n",
    "\n",
    "---"
   ]
  },
  {
   "cell_type": "code",
   "execution_count": null,
   "metadata": {},
   "outputs": [],
   "source": [
    "#python\n",
    "def findLargest(L):\n",
    "  left = 0\n",
    "  s = len(L)\n",
    "  right = s-1\n",
    "  \n",
    "  # If list has only one element, that is the max.\n",
    "  if (s==1):\n",
    "    return L[0]\n",
    "    \n",
    "  while (left<=right):\n",
    "    mid=(left+right)//2\n",
    "    \n",
    "    # if mid is at last index, next element to compare will be at index 0\n",
    "    if (mid == s-1):\n",
    "      nextToMid = 0\n",
    "    else:\n",
    "      nextToMid = mid+1\n",
    "\n",
    "    if (L[mid] > L[nextToMid]):\n",
    "      return L[mid]\n",
    "    elif (L[mid] < L[0]):\n",
    "      # our element is in left of mid\n",
    "      right = mid-1\n",
    "    else:\n",
    "      # our element is in right of mid\n",
    "      left = mid+1"
   ]
  },
  {
   "cell_type": "code",
   "execution_count": null,
   "metadata": {},
   "outputs": [],
   "source": [
    "def findLargest(L):\n",
    "    (start,end) = (0, len(L))\n",
    "    (left, right) = (L[0], L[-1])\n",
    "    \n",
    "    while(start<end):\n",
    "        \n",
    "        mid = (start+end)//2\n",
    "        if(left>L[mid]):\n",
    "            end = mid\n",
    "        else:\n",
    "            start = mid+1\n",
    "    return L[start-1]"
   ]
  },
  {
   "cell_type": "markdown",
   "metadata": {},
   "source": [
    "# GRPA-3"
   ]
  },
  {
   "cell_type": "markdown",
   "metadata": {},
   "source": [
    "---\n",
    "![GRPA-3](https://github.com/Kool-Cool/PDSA_JAN24_IITM/blob/main/Instance/GRPA-3_W2.png?raw=true)\n",
    "\n",
    "---"
   ]
  },
  {
   "cell_type": "code",
   "execution_count": null,
   "metadata": {},
   "outputs": [],
   "source": [
    "#python\n",
    "def mergeInPlace(A, B):\n",
    "  m = len(A)\n",
    "  n = len(B)\n",
    "  if (m < 1 or n < 1):\n",
    "    return \n",
    "  \n",
    "  # Find the smaller list of A and B.\n",
    "  for i in range(0, m):\n",
    "    # A and B are already sorted. B[0] will always be least in B, \n",
    "    # as we will maintain its sortedness .\n",
    "    if (A[i] > B[0]):\n",
    "      A.swap(i, B, 0)\n",
    "       \n",
    "      # move `B[0]` to its correct position in B to maintain the sortedness of B\n",
    "      j = 0\n",
    "      while(j < n - 1 and B[j] > B[j + 1]):\n",
    "        B.swap(j+1, B, j)        \n",
    "        j += 1"
   ]
  },
  {
   "cell_type": "code",
   "execution_count": null,
   "metadata": {},
   "outputs": [],
   "source": [
    "def mergeInPlace(A,B):\n",
    "    m,n = len(A),len(B)\n",
    "    j = 0\n",
    "    for i in range(m):\n",
    "        for j in range(n):\n",
    "            if(A[i]>B[j]):\n",
    "                A.swap(i,B,j)\n",
    "    for i in range(n):\n",
    "        for j in range(i+1,n):\n",
    "            if(B[i]>B[j]):\n",
    "                B.swap(i,B,j)"
   ]
  }
 ],
 "metadata": {
  "kernelspec": {
   "display_name": "Python 3",
   "language": "python",
   "name": "python3"
  },
  "language_info": {
   "codemirror_mode": {
    "name": "ipython",
    "version": 3
   },
   "file_extension": ".py",
   "mimetype": "text/x-python",
   "name": "python",
   "nbconvert_exporter": "python",
   "pygments_lexer": "ipython3",
   "version": "3.12.1"
  }
 },
 "nbformat": 4,
 "nbformat_minor": 2
}
