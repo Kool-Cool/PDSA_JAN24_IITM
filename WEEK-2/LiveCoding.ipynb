{
 "cells": [
  {
   "cell_type": "markdown",
   "metadata": {},
   "source": [
    "# LiveCoding-1"
   ]
  },
  {
   "cell_type": "markdown",
   "metadata": {},
   "source": [
    "---\n",
    "\n",
    "![LiveCoding-1](https://github.com/Kool-Cool/PDSA_JAN24_IITM/blob/main/Instance/LiveCoding-1_W2.png?raw=true)\n",
    "\n",
    "---"
   ]
  },
  {
   "cell_type": "code",
   "execution_count": 1,
   "metadata": {},
   "outputs": [],
   "source": [
    "def Findpeak(L):\n",
    "    \"\"\"  \n",
    "    peak element !\n",
    "    O(log(n)) => (two pointer , binary search)\n",
    "\n",
    "    left ,right \n",
    "    \"\"\"\n",
    "    low, high = 0, len(L) - 1\n",
    "    while low < high:\n",
    "        mid = (low + high) // 2\n",
    "        if L[mid] < L[mid + 1]:\n",
    "            low = mid + 1\n",
    "        else:\n",
    "            high = mid\n",
    "    return L[low]\n",
    "\n"
   ]
  },
  {
   "cell_type": "markdown",
   "metadata": {},
   "source": [
    "# LiveCoding-2"
   ]
  },
  {
   "cell_type": "markdown",
   "metadata": {},
   "source": [
    "---\n",
    "\n",
    "![LiveCoding-2](https://github.com/Kool-Cool/PDSA_JAN24_IITM/blob/main/Instance/LiveCoding-2_W2.png?raw=true)\n",
    "\n",
    "---"
   ]
  },
  {
   "cell_type": "code",
   "execution_count": 2,
   "metadata": {},
   "outputs": [],
   "source": [
    "def findCommonElements(L1, L2):\n",
    "    L1.sort()\n",
    "    L2.sort()\n",
    "    i, j = 0, 0\n",
    "    common = []\n",
    "    while i < len(L1) and j < len(L2):\n",
    "        if L1[i] < L2[j]:\n",
    "            i += 1\n",
    "        elif L1[i] > L2[j]:\n",
    "            j += 1\n",
    "        else:\n",
    "            common.append(L1[i])\n",
    "            i += 1\n",
    "            j += 1\n",
    "    return common"
   ]
  },
  {
   "cell_type": "markdown",
   "metadata": {},
   "source": [
    "# LiveCoding-3"
   ]
  },
  {
   "cell_type": "markdown",
   "metadata": {},
   "source": [
    "---\n",
    "\n",
    "![LiveCoding-3](https://github.com/Kool-Cool/PDSA_JAN24_IITM/blob/main/Instance/LiveCoding-3_W2.png?raw=true)\n",
    "\n",
    "---"
   ]
  },
  {
   "cell_type": "code",
   "execution_count": 3,
   "metadata": {},
   "outputs": [],
   "source": [
    "#NeedHelp\n",
    "#NeedContrib\n",
    "\n",
    "def subordinates(L):\n",
    "    people_required = 0\n",
    "    sorted_cards = []\n",
    "    \n",
    "    while L:\n",
    "        card = min(L)\n",
    "        sorted_cards.append(card)\n",
    "        L.remove(card)\n",
    "        \n",
    "        if len(L) >= 2:\n",
    "            people_required += 1\n",
    "            sub1_card = min(L)\n",
    "            L.remove(sub1_card)\n",
    "\n",
    "            sub2_card = min(L)\n",
    "            L.remove(sub2_card)\n",
    "\n",
    "            if sub1_card < sub2_card:\n",
    "                L.append(sub1_card)\n",
    "                L.append(sub2_card)\n",
    "            else:\n",
    "                L.append(sub2_card)\n",
    "                L.append(sub1_card)\n",
    "\n",
    "    return (sorted_cards, people_required + 1) # +1 to include yourself"
   ]
  },
  {
   "cell_type": "markdown",
   "metadata": {},
   "source": [
    "# LiveCoding-4"
   ]
  },
  {
   "cell_type": "markdown",
   "metadata": {},
   "source": [
    "---\n",
    "\n",
    "![LiveCoding-4](https://github.com/Kool-Cool/PDSA_JAN24_IITM/blob/main/Instance/LiveCoding-4_W2.png?raw=true)\n",
    "\n",
    "---"
   ]
  },
  {
   "cell_type": "code",
   "execution_count": 4,
   "metadata": {},
   "outputs": [],
   "source": [
    "def findPair(L, pairSum):\n",
    "    L.sort()\n",
    "    left, right = 0, len(L) - 1\n",
    "    while left < right:\n",
    "        current_sum = L[left] + L[right]\n",
    "        if current_sum == pairSum:\n",
    "            return True\n",
    "        elif current_sum < pairSum:\n",
    "            left += 1\n",
    "        else:\n",
    "            right -= 1\n",
    "    return False\n",
    "\n"
   ]
  }
 ],
 "metadata": {
  "kernelspec": {
   "display_name": "Python 3",
   "language": "python",
   "name": "python3"
  },
  "language_info": {
   "codemirror_mode": {
    "name": "ipython",
    "version": 3
   },
   "file_extension": ".py",
   "mimetype": "text/x-python",
   "name": "python",
   "nbconvert_exporter": "python",
   "pygments_lexer": "ipython3",
   "version": "3.12.1"
  }
 },
 "nbformat": 4,
 "nbformat_minor": 2
}
