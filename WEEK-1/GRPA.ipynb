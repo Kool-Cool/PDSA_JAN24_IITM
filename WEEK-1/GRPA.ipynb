{
 "cells": [
  {
   "cell_type": "markdown",
   "metadata": {},
   "source": [
    "# GRPA-1"
   ]
  },
  {
   "cell_type": "markdown",
   "metadata": {},
   "source": [
    "---\n",
    "\n",
    "![GRPA-1](https://github.com/Kool-Cool/PDSA_JAN24_IITM/blob/main/Instance/GRPA-1_W1.png?raw=true)\n",
    "\n",
    "---"
   ]
  },
  {
   "cell_type": "code",
   "execution_count": null,
   "metadata": {},
   "outputs": [],
   "source": [
    "def find_Min_Difference(L : list,P:int):\n",
    "    L.sort()\n",
    "    # return min(L[i + P - 1] - L[i] for i in range(len(L) - P + 1))\n",
    "    # sliding window\n",
    "    c = float(\"inf\")\n",
    "    for i in range( len(L) - P + 1):\n",
    "        c = min(c , L[i + P -1] - L[i])\n",
    "    return c\n"
   ]
  },
  {
   "cell_type": "markdown",
   "metadata": {},
   "source": [
    "# GRPA-2"
   ]
  },
  {
   "cell_type": "markdown",
   "metadata": {},
   "source": [
    "---\n",
    "\n",
    "![GRPA-2](https://github.com/Kool-Cool/PDSA_JAN24_IITM/blob/main/Instance/GRPA-2_W1.png?raw=true)\n",
    "\n",
    "---"
   ]
  },
  {
   "cell_type": "code",
   "execution_count": null,
   "metadata": {},
   "outputs": [],
   "source": [
    "def is_prime(num):\n",
    "    for i in range(2,num):\n",
    "        if num % i ==0:\n",
    "            return False\n",
    "    return True\n",
    "\n",
    "def Goldbach(n:int)-> list:\n",
    "    # Finding Prime Numbers till n\n",
    "    prime_lst = []\n",
    "\n",
    "    for c in range(min(2,n),n):\n",
    "        if is_prime(c):\n",
    "            prime_lst.append(c)\n",
    "    \n",
    "    # print(prime_lst)\n",
    "\n",
    "    result = []\n",
    "    if len(prime_lst)>0:\n",
    "        #using 2 pointers\n",
    "        for l in range(len(prime_lst)):\n",
    "            for j in range(l , len(prime_lst)):\n",
    "                if prime_lst[l] + prime_lst[j] == n:\n",
    "                    result.append( (prime_lst[l],prime_lst[j]) )\n",
    "    return result\n",
    "\n",
    "\n",
    "\n",
    "\n"
   ]
  },
  {
   "cell_type": "code",
   "execution_count": null,
   "metadata": {},
   "outputs": [],
   "source": [
    "# 2nd method\n",
    "\n",
    "def is_prime(n):\n",
    "    if n <= 1:\n",
    "        return False\n",
    "    if n <= 3:\n",
    "        return True\n",
    "    if n % 2 == 0 or n % 3 == 0:\n",
    "        return False\n",
    "    i = 5\n",
    "    while i * i <= n:\n",
    "        if n % i == 0 or n % (i + 2) == 0:\n",
    "            return False\n",
    "        i += 6\n",
    "    return True\n",
    "\n",
    "def Goldbach(n):\n",
    "    result = []\n",
    "    for i in range(2, n // 2 + 1):\n",
    "        if is_prime(i) and is_prime(n - i):\n",
    "            result.append((i, n - i))\n",
    "    return result\n",
    "\n",
    "print(Goldbach(12))  \n",
    "print(Goldbach(26))  \n"
   ]
  },
  {
   "cell_type": "markdown",
   "metadata": {},
   "source": [
    "# GRPA-3"
   ]
  },
  {
   "cell_type": "markdown",
   "metadata": {},
   "source": [
    "---\n",
    "\n",
    "![GRPA-3](https://github.com/Kool-Cool/PDSA_JAN24_IITM/blob/main/Instance/GRPA-3_W1.png?raw=true)\n",
    "\n",
    "---"
   ]
  },
  {
   "cell_type": "code",
   "execution_count": null,
   "metadata": {},
   "outputs": [],
   "source": [
    "def odd_one(lst:list):\n",
    "    \n",
    "    mydict = {}\n",
    "    for char in lst:\n",
    "        mydict[type(char).__name__] = mydict.get(type(char).__name__ , 0) + 1\n",
    "\n",
    "    for c in mydict:\n",
    "        if mydict[c] == 1:\n",
    "            return c\n",
    "\n",
    "\n",
    "print(odd_one(eval(input().strip())))"
   ]
  }
 ],
 "metadata": {
  "kernelspec": {
   "display_name": "Python 3",
   "language": "python",
   "name": "python3"
  },
  "language_info": {
   "codemirror_mode": {
    "name": "ipython",
    "version": 3
   },
   "file_extension": ".py",
   "mimetype": "text/x-python",
   "name": "python",
   "nbconvert_exporter": "python",
   "pygments_lexer": "ipython3",
   "version": "0.0.0"
  }
 },
 "nbformat": 4,
 "nbformat_minor": 2
}
