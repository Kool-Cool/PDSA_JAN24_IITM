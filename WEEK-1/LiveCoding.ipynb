{
 "cells": [
  {
   "cell_type": "markdown",
   "metadata": {},
   "source": [
    "# LiveCoding-1"
   ]
  },
  {
   "cell_type": "markdown",
   "metadata": {},
   "source": [
    "---\n",
    "\n",
    "![LiveCoding-1](https://github.com/Kool-Cool/PDSA_JAN24_IITM/blob/main/Instance/LiveCoding-1_W1.png?raw=true)\n",
    "\n",
    "---"
   ]
  },
  {
   "cell_type": "code",
   "execution_count": null,
   "metadata": {},
   "outputs": [],
   "source": [
    "# Helper Function\n",
    "def is_prime(num):\n",
    "    if num <= 1:\n",
    "        return False\n",
    "    if num <=3:\n",
    "        return True\n",
    "    if num % 2 ==0 or num % 3 ==0:\n",
    "        return False\n",
    "    i = 5\n",
    "\n",
    "    while i*i <=num:\n",
    "        if num%i == 0 or  num%(i+2) ==0:\n",
    "            return False\n",
    "        i+=6\n",
    "    return True\n",
    "\n",
    "\n",
    "\n",
    "def prime_product(m:int):\n",
    "\n",
    "    prime_lst = [char for char in range(m) if is_prime(char)]\n",
    "\n",
    "    # 2 pointers , brute force\n",
    "    for i in range(len(prime_lst)):\n",
    "        for j in range(i, len(prime_lst)):\n",
    "            if prime_lst[i] * prime_lst[j] == m:\n",
    "                return True\n",
    "\n",
    "    return False\n",
    "\n",
    "print(prime_product(6))\n"
   ]
  },
  {
   "cell_type": "code",
   "execution_count": null,
   "metadata": {},
   "outputs": [],
   "source": [
    "# 2nd Method\n",
    "def is_prime(n):\n",
    "    if n < 2:\n",
    "        return False\n",
    "    for i in range(2, int(n**0.5) + 1):\n",
    "        if n % i == 0:\n",
    "            return False\n",
    "    return True\n",
    "\n",
    "def prime_product(m):\n",
    "    if m > 0:\n",
    "        for i in range(2, int(m**0.5) + 1):\n",
    "            if m % i == 0:\n",
    "                if is_prime(i) and is_prime(m//i):\n",
    "                    return True\n",
    "    return False\n"
   ]
  },
  {
   "cell_type": "markdown",
   "metadata": {},
   "source": [
    "# LiveCoding-2"
   ]
  },
  {
   "cell_type": "markdown",
   "metadata": {},
   "source": [
    "---\n",
    "\n",
    "![LiveCoding-2](https://github.com/Kool-Cool/PDSA_JAN24_IITM/blob/main/Instance/LiveCoding-2_W1.png?raw=true)\n",
    "\n",
    "---"
   ]
  },
  {
   "cell_type": "code",
   "execution_count": null,
   "metadata": {},
   "outputs": [],
   "source": [
    "def del_char(s :str , c:str):\n",
    "    if len(c)!=1:\n",
    "        return s\n",
    "    mylst = []\n",
    "    for char in s:\n",
    "        if char !=c:\n",
    "            mylst.append(char)\n",
    "\n",
    "    return \"\".join(mylst)"
   ]
  },
  {
   "cell_type": "code",
   "execution_count": null,
   "metadata": {},
   "outputs": [],
   "source": [
    "# 2nd method\n",
    "\n",
    "def del_char(s, c):\n",
    "    if len(c) == 1:\n",
    "        return s.replace(c, '')\n",
    "    else:\n",
    "        return s\n"
   ]
  },
  {
   "cell_type": "markdown",
   "metadata": {},
   "source": [
    "# LiveCoding-3"
   ]
  },
  {
   "cell_type": "markdown",
   "metadata": {},
   "source": [
    "---\n",
    "\n",
    "![LiveCoding-3](https://github.com/Kool-Cool/PDSA_JAN24_IITM/blob/main/Instance/LiveCoding-3_W1.png?raw=true)\n",
    "\n",
    "---"
   ]
  },
  {
   "cell_type": "code",
   "execution_count": null,
   "metadata": {},
   "outputs": [],
   "source": [
    "def shuffle(l1:list , l2:list):\n",
    "    # Kinda merge\n",
    "\n",
    "    result = []\n",
    "    m = min(len(l1) , len(l2))\n",
    "    i = 0\n",
    "    while i<m:\n",
    "        result.append(l1[i])\n",
    "        result.append(l2[i])\n",
    "        i+=1\n",
    "    # print(i)\n",
    "    \n",
    "    if len(l1) > i:\n",
    "        result = result + l1[i:]\n",
    "    if len(l2) > i :\n",
    "        result = result + l2[i:]\n",
    "\n",
    "    return result"
   ]
  },
  {
   "cell_type": "markdown",
   "metadata": {},
   "source": [
    "# LiveCoding-4"
   ]
  },
  {
   "cell_type": "markdown",
   "metadata": {},
   "source": [
    "---\n",
    "\n",
    "![LiveCoding-4](https://github.com/Kool-Cool/PDSA_JAN24_IITM/blob/main/Instance/LiveCoding-4_W1.png?raw=true)\n",
    "\n",
    "---"
   ]
  },
  {
   "cell_type": "code",
   "execution_count": null,
   "metadata": {},
   "outputs": [],
   "source": [
    "def expanding(L):\n",
    "    if len(L) < 2:\n",
    "        return True\n",
    "    diff = abs(L[1] - L[0])\n",
    "    for i in range(2, len(L)):\n",
    "        new_diff = abs(L[i] - L[i-1])\n",
    "        if new_diff <= diff:\n",
    "            return False\n",
    "        diff = new_diff\n",
    "    return True\n"
   ]
  },
  {
   "cell_type": "markdown",
   "metadata": {},
   "source": [
    "# LiveCoding-5"
   ]
  },
  {
   "cell_type": "markdown",
   "metadata": {},
   "source": [
    "---\n",
    "\n",
    "![LiveCoding-5](https://github.com/Kool-Cool/PDSA_JAN24_IITM/blob/main/Instance/LiveCoding-5_W1.png?raw=true)\n",
    "\n",
    "---"
   ]
  },
  {
   "cell_type": "code",
   "execution_count": null,
   "metadata": {},
   "outputs": [],
   "source": [
    "def sumsquare(l : list):\n",
    "    odd = 0\n",
    "    even = 0\n",
    "    \n",
    "\n",
    "    for char in l:\n",
    "        if char%2==0: # even\n",
    "            even = even + (char * char)\n",
    "        else:\n",
    "            odd = odd + (char * char)\n",
    "    return [odd , even]"
   ]
  },
  {
   "cell_type": "code",
   "execution_count": null,
   "metadata": {},
   "outputs": [],
   "source": [
    "def sumsquare(L):\n",
    "    odd = sum(i**2 for i in L if i % 2 != 0)\n",
    "    even = sum(i**2 for i in L if i % 2 == 0)\n",
    "    return [odd, even]\n"
   ]
  },
  {
   "cell_type": "markdown",
   "metadata": {},
   "source": [
    "# LiveCoding-6"
   ]
  },
  {
   "cell_type": "markdown",
   "metadata": {},
   "source": [
    "---\n",
    "\n",
    "![LiveCoding-6](https://github.com/Kool-Cool/PDSA_JAN24_IITM/blob/main/Instance/LiveCoding-6_W1.png?raw=true)\n",
    "\n",
    "---"
   ]
  },
  {
   "cell_type": "code",
   "execution_count": null,
   "metadata": {},
   "outputs": [],
   "source": [
    "def histogram(l : list):\n",
    "    mydict = {}\n",
    "\n",
    "    for char in l:\n",
    "        mydict[char] = mydict.get(char , 0) +1\n",
    "\n",
    "    # print(mydict)\n",
    "\n",
    "    result = [ (char , mydict[char]) for char in mydict ]\n",
    "\n",
    "    return sorted(result , key=lambda x : ( x[1] , x[0] ))"
   ]
  }
 ],
 "metadata": {
  "kernelspec": {
   "display_name": "Python 3",
   "language": "python",
   "name": "python3"
  },
  "language_info": {
   "codemirror_mode": {
    "name": "ipython",
    "version": 3
   },
   "file_extension": ".py",
   "mimetype": "text/x-python",
   "name": "python",
   "nbconvert_exporter": "python",
   "pygments_lexer": "ipython3",
   "version": "3.10.6"
  }
 },
 "nbformat": 4,
 "nbformat_minor": 2
}
