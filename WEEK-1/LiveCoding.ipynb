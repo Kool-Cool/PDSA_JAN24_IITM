{
 "cells": [
  {
   "cell_type": "markdown",
   "metadata": {},
   "source": [
    "# LiveCoding-1"
   ]
  },
  {
   "cell_type": "markdown",
   "metadata": {},
   "source": [
    "---\n",
    "\n",
    "![LiveCoding-1](https://github.com/Kool-Cool/PDSA_JAN24_IITM/blob/main/Instance/LiveCoding-1_W1.png?raw=true)\n",
    "\n",
    "---"
   ]
  },
  {
   "cell_type": "code",
   "execution_count": null,
   "metadata": {},
   "outputs": [],
   "source": [
    "# Helper Function\n",
    "def is_prime(num):\n",
    "    if num <= 1:\n",
    "        return False\n",
    "    if num <=3:\n",
    "        return True\n",
    "    if num % 2 ==0 or num % 3 ==0:\n",
    "        return False\n",
    "    i = 5\n",
    "\n",
    "    while i*i <=num:\n",
    "        if num%i == 0 or  num%(i+2) ==0:\n",
    "            return False\n",
    "        i+=6\n",
    "    return True\n",
    "\n",
    "\n",
    "\n",
    "def prime_product(m:int):\n",
    "\n",
    "    prime_lst = [char for char in range(m) if is_prime(char)]\n",
    "\n",
    "    # 2 pointers , brute force\n",
    "    for i in range(len(prime_lst)):\n",
    "        for j in range(i, len(prime_lst)):\n",
    "            if prime_lst[i] * prime_lst[j] == m:\n",
    "                return True\n",
    "\n",
    "    return False\n",
    "\n",
    "print(prime_product(6))\n"
   ]
  },
  {
   "cell_type": "code",
   "execution_count": null,
   "metadata": {},
   "outputs": [],
   "source": [
    "# 2nd Method\n",
    "def is_prime(n):\n",
    "    if n < 2:\n",
    "        return False\n",
    "    for i in range(2, int(n**0.5) + 1):\n",
    "        if n % i == 0:\n",
    "            return False\n",
    "    return True\n",
    "\n",
    "def prime_product(m):\n",
    "    if m > 0:\n",
    "        for i in range(2, int(m**0.5) + 1):\n",
    "            if m % i == 0:\n",
    "                if is_prime(i) and is_prime(m//i):\n",
    "                    return True\n",
    "    return False\n"
   ]
  },
  {
   "cell_type": "markdown",
   "metadata": {},
   "source": [
    "# LiveCoding-2"
   ]
  },
  {
   "cell_type": "markdown",
   "metadata": {},
   "source": [
    "---\n",
    "\n",
    "![LiveCoding-2](https://github.com/Kool-Cool/PDSA_JAN24_IITM/blob/main/Instance/LiveCoding-2_W1.png?raw=true)\n",
    "\n",
    "---"
   ]
  },
  {
   "cell_type": "code",
   "execution_count": 7,
   "metadata": {},
   "outputs": [],
   "source": [
    "def del_char(s :str , c:str):\n",
    "    if len(c)!=1:\n",
    "        return s\n",
    "    mylst = []\n",
    "    for char in s:\n",
    "        if char !=c:\n",
    "            mylst.append(char)\n",
    "\n",
    "    return \"\".join(mylst)"
   ]
  },
  {
   "cell_type": "code",
   "execution_count": 9,
   "metadata": {},
   "outputs": [
    {
     "data": {
      "text/plain": [
       "'anana'"
      ]
     },
     "execution_count": 9,
     "metadata": {},
     "output_type": "execute_result"
    }
   ],
   "source": [
    "# 2nd method\n",
    "\n",
    "def del_char(s, c):\n",
    "    if len(c) == 1:\n",
    "        return s.replace(c, '')\n",
    "    else:\n",
    "        return s\n"
   ]
  },
  {
   "cell_type": "markdown",
   "metadata": {},
   "source": [
    "# LiveCoding-3"
   ]
  },
  {
   "cell_type": "markdown",
   "metadata": {},
   "source": [
    "---\n",
    "\n",
    "![LiveCoding-3](https://github.com/Kool-Cool/PDSA_JAN24_IITM/blob/main/Instance/LiveCoding-3_W1.png?raw=true)\n",
    "\n",
    "---"
   ]
  },
  {
   "cell_type": "code",
   "execution_count": null,
   "metadata": {},
   "outputs": [],
   "source": []
  }
 ],
 "metadata": {
  "kernelspec": {
   "display_name": "Python 3",
   "language": "python",
   "name": "python3"
  },
  "language_info": {
   "codemirror_mode": {
    "name": "ipython",
    "version": 3
   },
   "file_extension": ".py",
   "mimetype": "text/x-python",
   "name": "python",
   "nbconvert_exporter": "python",
   "pygments_lexer": "ipython3",
   "version": "3.10.6"
  }
 },
 "nbformat": 4,
 "nbformat_minor": 2
}
