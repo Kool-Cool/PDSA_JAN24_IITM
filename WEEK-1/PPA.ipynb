{
 "cells": [
  {
   "cell_type": "markdown",
   "metadata": {},
   "source": [
    "# PPA-1"
   ]
  },
  {
   "cell_type": "markdown",
   "metadata": {},
   "source": [
    "Twin primes are pairs of prime numbers that differ by 2. For example (3, 5), (5, 7), and (11,13) are twin primes.\n",
    "Write a function Twin_Primes(n, m) where n and m are positive integers and n < m , that returns all unique twin primes between m and n (both inclusive). The function returns a list of tuples and each tuple (a,b) represents one unique twin prime where n <= a < b <= m.\n",
    "\n",
    "![PPA-1](https://github.com/Kool-Cool/PDSA_JAN24_IITM/blob/main/Instance/PPA-1_W1.png?raw=true)"
   ]
  },
  {
   "cell_type": "code",
   "execution_count": null,
   "metadata": {},
   "outputs": [],
   "source": [
    "def is_prime(x):\n",
    "    # A helper function to check if a number is prime\n",
    "    # Based on [1]\n",
    "    for i in range(2, x):\n",
    "        if x % i == 0:\n",
    "            return False\n",
    "    return True\n",
    "\n",
    "def Twin_Primes(n, m):\n",
    "    # A function to find all twin primes between n and m\n",
    "    # Based on [2]\n",
    "    result = [] # An empty list to store the twin primes\n",
    "    for x in range(max(2, n), m+1): # Start from 2 or n, whichever is larger\n",
    "        if is_prime(x) and is_prime(x+2): # Check if x and x+2 are both prime\n",
    "            result.append((x, x+2)) # Add the pair to the result list\n",
    "    return result\n",
    "\n",
    "\n",
    "\n",
    "n=int(input())\n",
    "m=int(input())\n",
    "print(sorted(Twin_Primes(n, m)))"
   ]
  },
  {
   "cell_type": "markdown",
   "metadata": {},
   "source": [
    "# PPA-2"
   ]
  },
  {
   "cell_type": "markdown",
   "metadata": {},
   "source": [
    "Create a `Triangle` class that accepts three side-lengths of the triangle as `a`, `b`, and `c` as parameters at the time of object creation. Class `Triangle` should have the following methods:\n",
    "\n",
    "- `Is_Valid()`: Returns 'Valid' if triangle is valid otherwise returns 'Invalid'.\n",
    "    - A triangle is valid when the sum of its two side-lengths are greater than the third one. That means the triangle is valid if all three conditions are satisfied:\n",
    "        - `a + b > c`\n",
    "        - `a + c > b`\n",
    "        - `b + c > a`\n",
    "- `Side_Classification()`: If the triangle is invalid then return 'Invalid'. Otherwise, it returns the type of triangle according to the sides of the triangle as follows:\n",
    "    - Return 'Equilateral' if all sides are of equal length.\n",
    "    - Return 'Isosceles' if any two sides are of equal length and the third is different.\n",
    "    - Return 'Scalene' if all sides are of different lengths.\n",
    "- `Angle_Classification()`: If the triangle is invalid then return 'Invalid'. Otherwise, return the type of triangle using Pythagoras theorem.\n",
    "    - For example, if `a <= b <= c` then:\n",
    "        - If `a^2 + b^2 > c^2` return 'Acute'\n",
    "        - If `a^2 + b^2 = c^2` return 'Right'\n",
    "        - If `a^2 + b^2 < c^2` return 'Obtuse'\n",
    "    - In the formula of angle classification, the square of the largest side length should be compared to the sum of squares of the other two side lengths.\n",
    "- `Area()`: If the triangle is invalid then return 'Invalid'. Otherwise, return the area of the triangle.\n",
    "    - Area = `sqrt(s * (s - a) * (s - b) * (s - c))`\n",
    "    - Where `s = (a + b + c) / 2`\n",
    "\n",
    "\n",
    "\n",
    "![PPA-2](https://github.com/Kool-Cool/PDSA_JAN24_IITM/blob/main/Instance/PPA-2_W1.png?raw=true)"
   ]
  },
  {
   "cell_type": "code",
   "execution_count": null,
   "metadata": {},
   "outputs": [],
   "source": [
    "import math\n",
    "\n",
    "class Triangle:\n",
    "    def __init__(self, a, b, c):\n",
    "        self.a = a\n",
    "        self.b = b\n",
    "        self.c = c\n",
    "\n",
    "    def Is_valid(self):\n",
    "        if (self.a + self.b > self.c and self.a + self.c > self.b and self.b + self.c > self.a):\n",
    "            return 'Valid'\n",
    "        return 'Invalid'\n",
    "\n",
    "    def Side_Classification(self):\n",
    "        if not self.Is_valid() == 'Valid':\n",
    "            return 'Invalid'\n",
    "        if self.a == self.b == self.c:\n",
    "            return 'Equilateral'\n",
    "        elif self.a == self.b or self.b == self.c or self.c == self.a:\n",
    "            return 'Isosceles'\n",
    "        else:\n",
    "            return 'Scalene'\n",
    "\n",
    "    def Angle_Classification(self):\n",
    "        if not self.Is_valid() == 'Valid':\n",
    "            return 'Invalid'\n",
    "        sides = sorted([self.a, self.b, self.c])\n",
    "        if sides[0]**2 + sides[1]**2 > sides[2]**2:\n",
    "            return 'Acute'\n",
    "        elif sides[0]**2 + sides[1]**2 == sides[2]**2:\n",
    "            return 'Right'\n",
    "        else:\n",
    "            return 'Obtuse'\n",
    "\n",
    "    def Area(self):\n",
    "        if not self.Is_valid() == 'Valid':\n",
    "            return 'Invalid'\n",
    "        s = (self.a + self.b + self.c) / 2\n",
    "        return math.sqrt(s * (s - self.a) * (s - self.b) * (s - self.c))\n",
    "\n",
    "\n",
    "a=int(input())\n",
    "b=int(input())\n",
    "c=int(input())\n",
    "T=Triangle(a,b,c)\n",
    "print(T.Is_valid())\n",
    "print(T.Side_Classification())\n",
    "print(T.Angle_Classification())\n",
    "print(T.Area())"
   ]
  }
 ],
 "metadata": {
  "language_info": {
   "name": "python"
  }
 },
 "nbformat": 4,
 "nbformat_minor": 2
}
